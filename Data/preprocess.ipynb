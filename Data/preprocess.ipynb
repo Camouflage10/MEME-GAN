{
 "cells": [
  {
   "cell_type": "code",
   "execution_count": 1,
   "metadata": {},
   "outputs": [
    {
     "name": "stdout",
     "output_type": "stream",
     "text": [
      "Total memes: 695\n",
      "[('i.imgflip.com/5amwr6.jpg', 'HOW SUPERMARKETS THINKS WE ARE; $10; $9.99'), ('i.imgflip.com/5ybql2.jpg', 'Elon Musk; Eel on Musk'), ('i.imgflip.com/587wks.jpg', 'happy May 4th! May the 4th be with you'), ('i.imgflip.com/5b0yw1.jpg', 'making a meme with words and a meaning'), ('i.imgflip.com/6bczfl.jpg', 'when you realize downvoting does nothing; when you immediately realize upvoting images gets you points and also makes the creator happy')]\n"
     ]
    }
   ],
   "source": [
    "# Load data\n",
    "\n",
    "import json\n",
    "\n",
    "FILENAME = './scraped_json/drake_hotline_bling.json'\n",
    "\n",
    "meme_name: str\n",
    "template_url: str\n",
    "meme_data: list\n",
    "with open(FILENAME) as f:\n",
    "    data = json.load(f)\n",
    "    meme_name = data['name']\n",
    "    template_url = data[\"template\"]\n",
    "    meme_data = [(meme['url'], meme['text']) for meme in data['memes']]\n",
    "print(\"Total memes:\", len(meme_data))\n",
    "print(meme_data[:5])\n"
   ]
  },
  {
   "cell_type": "code",
   "execution_count": 2,
   "metadata": {},
   "outputs": [
    {
     "name": "stdout",
     "output_type": "stream",
     "text": [
      "Removed 154 memes\n",
      "Memes after cleaning: 541\n"
     ]
    }
   ],
   "source": [
    "# Clean data\n",
    "\n",
    "NUM_TEXT_BLOCKS = 2\n",
    "cleaned_data = []\n",
    "for url, text in meme_data:\n",
    "    # Sometimes the JSON will contain memes with no text,\n",
    "    # which will give a text of: \"image tagged in [categories]\"\n",
    "    # Don't include these samples\n",
    "    if \"image tagged in\" in text:\n",
    "        continue\n",
    "    # Don't include samples that do not meet desired # of text blocks\n",
    "    if len(text.split(\";\")) != NUM_TEXT_BLOCKS:\n",
    "        continue\n",
    "    cleaned_data.append((url, text))\n",
    "\n",
    "print(\"Removed\", len(meme_data) - len(cleaned_data), \"memes\")\n",
    "print(\"Memes after cleaning:\", len(cleaned_data))"
   ]
  },
  {
   "cell_type": "code",
   "execution_count": 3,
   "metadata": {},
   "outputs": [
    {
     "name": "stdout",
     "output_type": "stream",
     "text": [
      "Getting template from https://imgflip.com/s/meme/Drake-Hotline-Bling.jpg\n",
      "Image size before: (1200, 1200)\n",
      "Image size after: (100, 100)\n"
     ]
    }
   ],
   "source": [
    "# Download and scale template\n",
    "\n",
    "import requests\n",
    "import io\n",
    "from PIL import Image\n",
    "\n",
    "# Download template\n",
    "print(\"Getting template from\", template_url)\n",
    "r = requests.get(template_url, stream=True)\n",
    "img_bytes = r.raw.read()\n",
    "\n",
    "# Scale to size \n",
    "image = Image.open(io.BytesIO(img_bytes))\n",
    "print(\"Image size before:\", image.size)\n",
    "scaled = image.resize((100, 100))\n",
    "print(\"Image size after:\", scaled.size)"
   ]
  },
  {
   "cell_type": "code",
   "execution_count": 7,
   "metadata": {},
   "outputs": [],
   "source": [
    "# Export all data to folder\n",
    "\n",
    "import os\n",
    "\n",
    "output_folder = \"_\".join(meme_name.split())\n",
    "if not os.path.isdir(output_folder):\n",
    "    os.mkdir(output_folder)\n",
    "\n",
    "scaled.save(output_folder + \"/\" + \"image.jpg\")\n",
    "with open(output_folder + \"/\" + \"data.json\", \"w\") as f:\n",
    "    json.dump(cleaned_data, f)\n"
   ]
  }
 ],
 "metadata": {
  "interpreter": {
   "hash": "c12755cee8e934f424469f8443f5f77baf5938e157a9986886e94a8c7c332e37"
  },
  "kernelspec": {
   "display_name": "Python 3.10.4 64-bit",
   "language": "python",
   "name": "python3"
  },
  "language_info": {
   "codemirror_mode": {
    "name": "ipython",
    "version": 3
   },
   "file_extension": ".py",
   "mimetype": "text/x-python",
   "name": "python",
   "nbconvert_exporter": "python",
   "pygments_lexer": "ipython3",
   "version": "3.10.4"
  },
  "orig_nbformat": 4
 },
 "nbformat": 4,
 "nbformat_minor": 2
}
